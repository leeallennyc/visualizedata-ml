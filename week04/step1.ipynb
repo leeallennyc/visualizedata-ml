{
 "cells": [
  {
   "cell_type": "markdown",
   "metadata": {},
   "source": [
    "## Fit OLS model using `mymodule` created in week 2"
   ]
  },
  {
   "cell_type": "code",
   "execution_count": 1,
   "metadata": {},
   "outputs": [],
   "source": [
    "import numpy as np\n",
    "import matplotlib.pyplot as plt\n",
    "import my_module\n",
    "%matplotlib inline"
   ]
  },
  {
   "cell_type": "code",
   "execution_count": 2,
   "metadata": {},
   "outputs": [],
   "source": [
    "x = np.array([1, 2, 4, 3, 5])\n",
    "y = np.array([1, 3, 3, 2, 5])"
   ]
  },
  {
   "cell_type": "markdown",
   "metadata": {},
   "source": [
    "### Recall, `my_module` uses this closed-form solution to fit Ordinary Least Squares (OLS):\n",
    "\n",
    "![](https://github.com/visualizedata/ml/raw/master/week02/img/reg.png)"
   ]
  },
  {
   "cell_type": "code",
   "execution_count": 3,
   "metadata": {},
   "outputs": [
    {
     "name": "stdout",
     "output_type": "stream",
     "text": [
      "0.39999999999999947\n",
      "0.8\n"
     ]
    }
   ],
   "source": [
    "sr = my_module.SimpleRegression()\n",
    "sr.fit(x, y)\n",
    "print(sr.intercept_)\n",
    "print(sr.coef_)"
   ]
  },
  {
   "cell_type": "code",
   "execution_count": 4,
   "metadata": {},
   "outputs": [
    {
     "data": {
      "image/png": "[encoded data removed]",
      "text/plain": [
       "<Figure size 432x288 with 1 Axes>"
      ]
     },
     "metadata": {
      "needs_background": "light"
     },
     "output_type": "display_data"
    }
   ],
   "source": [
    "# Plot outputs\n",
    "plt.scatter(x, y,  color='black')\n",
    "plt.plot(x, sr.predict(x), color='blue', linewidth=2)\n",
    "plt.show()"
   ]
  },
  {
   "cell_type": "markdown",
   "metadata": {},
   "source": [
    "### What is the \"cost\" (error) of this model?"
   ]
  },
  {
   "cell_type": "code",
   "execution_count": 5,
   "metadata": {},
   "outputs": [
    {
     "name": "stdout",
     "output_type": "stream",
     "text": [
      "[1.2 2.  3.6 2.8 4.4]\n"
     ]
    }
   ],
   "source": [
    "# predictions of y based on model\n",
    "print(sr.predict(x))"
   ]
  },
  {
   "cell_type": "code",
   "execution_count": 6,
   "metadata": {},
   "outputs": [
    {
     "name": "stdout",
     "output_type": "stream",
     "text": [
      "[1 3 3 2 5]\n"
     ]
    }
   ],
   "source": [
    "# actual y values\n",
    "print(y)"
   ]
  },
  {
   "cell_type": "code",
   "execution_count": 6,
   "metadata": {},
   "outputs": [
    {
     "name": "stdout",
     "output_type": "stream",
     "text": [
      "[ 0.2 -1.   0.6  0.8 -0.6]\n"
     ]
    }
   ],
   "source": [
    "# cost/error: difference between actual y and predicted y values\n",
    "print(np.subtract(sr.predict(x), y))"
   ]
  },
  {
   "cell_type": "code",
   "execution_count": 7,
   "metadata": {},
   "outputs": [
    {
     "name": "stdout",
     "output_type": "stream",
     "text": [
      "[0.04 1.   0.36 0.64 0.36]\n"
     ]
    }
   ],
   "source": [
    "# errors, squared\n",
    "print(np.square(np.subtract(sr.predict(x), y)))"
   ]
  },
  {
   "cell_type": "code",
   "execution_count": 8,
   "metadata": {},
   "outputs": [
    {
     "name": "stdout",
     "output_type": "stream",
     "text": [
      "2.400000000000001\n"
     ]
    }
   ],
   "source": [
    "# sum of errors squared, a measure of \"cost\": \n",
    "print(np.sum(np.square(np.subtract(sr.predict(x), y))))"
   ]
  },
  {
   "cell_type": "markdown",
   "metadata": {},
   "source": [
    "### What is the cost of a randomly selected weight? "
   ]
  },
  {
   "cell_type": "code",
   "execution_count": 9,
   "metadata": {},
   "outputs": [
    {
     "data": {
      "image/png": "[encoded data removed]",
      "text/plain": [
       "<Figure size 432x288 with 1 Axes>"
      ]
     },
     "metadata": {
      "needs_background": "light"
     },
     "output_type": "display_data"
    },
    {
     "name": "stdout",
     "output_type": "stream",
     "text": [
      "COST (error), linear model: \n",
      "2.400000000000001\n",
      "\n",
      "COST (error), polynomial model: \n",
      "10\n"
     ]
    }
   ],
   "source": [
    "randb0 = np.random.randint(-5, 6)\n",
    "randb1 = np.random.randint(-5, 6)\n",
    "plt.scatter(x, y,  color='black')\n",
    "plt.plot(x, np.add([randb0], np.multiply([randb1], x)), color='blue', linewidth=3)\n",
    "plt.show()\n",
    "\n",
    "print(\"COST (error), linear model: \")\n",
    "print(np.sum(np.square(np.subtract(sr.predict(x), y))))\n",
    "print()\n",
    "\n",
    "print(\"COST (error), polynomial model: \")\n",
    "print(np.sum(np.square(np.subtract(np.add([randb0], np.multiply([randb1], x)), y))))"
   ]
  },
  {
   "cell_type": "markdown",
   "metadata": {},
   "source": [
    "### The cost function for b1 in y = 0.8x + 0.4"
   ]
  },
  {
   "cell_type": "code",
   "execution_count": 10,
   "metadata": {},
   "outputs": [
    {
     "name": "stdout",
     "output_type": "stream",
     "text": [
      "What is the 'cost' of a b1 of -1.0?\n",
      "3.24 \n",
      "\n",
      "What is the 'cost' of a b1 of 1.0?\n",
      "0.03999999999999998 \n",
      "\n",
      "What is the 'cost' of a b1 of 0.8?\n",
      "0.0 \n",
      "\n",
      "What is the 'cost' of a random b1 of 418?\n",
      "174055.84 \n",
      "\n"
     ]
    },
    {
     "data": {
      "image/png": "[encoded data removed]",
      "text/plain": [
       "<Figure size 432x288 with 1 Axes>"
      ]
     },
     "metadata": {
      "needs_background": "light"
     },
     "output_type": "display_data"
    },
    {
     "name": "stdout",
     "output_type": "stream",
     "text": [
      "\ty = ax**2 + bx + c\n"
     ]
    }
   ],
   "source": [
    "def get_cost(m):\n",
    "    return (0.8 - m)**2\n",
    "\n",
    "print(\"What is the 'cost' of a b1 of -1.0?\")\n",
    "print(get_cost(-1.0), '\\n')\n",
    "\n",
    "print(\"What is the 'cost' of a b1 of 1.0?\")\n",
    "print(get_cost(1.0), '\\n')\n",
    "\n",
    "print(\"What is the 'cost' of a b1 of 0.8?\")\n",
    "print(get_cost(0.8), '\\n')\n",
    "\n",
    "rand_wt = np.random.randint(-500, 500)\n",
    "print(\"What is the 'cost' of a random b1 of \" + str(rand_wt) + \"?\")\n",
    "print(get_cost(rand_wt), '\\n')\n",
    "\n",
    "plt.plot(-1.0, get_cost(-1.0), marker='o', markersize=8, color=\"red\")\n",
    "plt.plot(1.0, get_cost(1.0), marker='o', markersize=8, color=\"red\")\n",
    "plt.plot(0.8, get_cost(0.8), marker='o', markersize=8, color=\"red\")\n",
    "plt.plot(0, get_cost(0), marker='o', markersize=8, color=\"red\")\n",
    "plt.plot(2.0, get_cost(2.0), marker='o', markersize=8, color=\"red\")\n",
    "plt.plot(3.0, get_cost(3.0), marker='o', markersize=8, color=\"red\")\n",
    "# plt.plot(rand_wt, get_cost(rand_wt), marker='o', markersize=3, color=\"red\")\n",
    "plt.show()\n",
    "\n",
    "print(\"\\ty = ax**2 + bx + c\")"
   ]
  },
  {
   "cell_type": "code",
   "execution_count": 11,
   "metadata": {},
   "outputs": [
    {
     "data": {
      "image/png": "[encoded data removed]",
      "text/plain": [
       "<Figure size 432x288 with 1 Axes>"
      ]
     },
     "metadata": {
      "needs_background": "light"
     },
     "output_type": "display_data"
    },
    {
     "data": {
      "image/png": "[encoded data removed]",
      "text/plain": [
       "<Figure size 432x288 with 1 Axes>"
      ]
     },
     "metadata": {
      "needs_background": "light"
     },
     "output_type": "display_data"
    },
    {
     "data": {
      "image/png": "[encoded data removed]",
      "text/plain": [
       "<Figure size 432x288 with 1 Axes>"
      ]
     },
     "metadata": {
      "needs_background": "light"
     },
     "output_type": "display_data"
    }
   ],
   "source": [
    "def cost_fn(m):\n",
    "    \"\"\"Returns the cost of a given weight for b1 in y=0.8x+0.4\"\"\"\n",
    "    return 1.08 * m**2 - 1.84 * m + 0.8\n",
    "\n",
    "def get_d(m):\n",
    "    \"\"\"Returns the derivative for a cost of a given weight for b1 in y=0.8x+0.4\"\"\"\n",
    "    return 2 * 1.08 * m - 1.84\n",
    "\n",
    "m = np.arange(-2, 4, 0.1)\n",
    "cost = np.apply_along_axis(cost_fn, 0, m)\n",
    "delta = np.apply_along_axis(get_d, 0, m)\n",
    "\n",
    "plt.axhline(0, color=\"grey\")\n",
    "plt.axvline(0, color=\"grey\")\n",
    "plt.plot(m, cost, color=\"blue\")\n",
    "plt.show()\n",
    "\n",
    "plt.axhline(0, color=\"grey\")\n",
    "plt.axvline(0, color=\"grey\")\n",
    "plt.axvline(x=0.8)\n",
    "plt.plot(m, cost, color=\"blue\")\n",
    "plt.show()\n",
    "\n",
    "# plt.axhline(0, color=\"grey\")\n",
    "# plt.axvline(0, color=\"grey\")\n",
    "# plt.plot(m, delta, color=\"red\")\n",
    "# plt.show()\n",
    "\n",
    "plt.axhline(0, color=\"grey\")\n",
    "plt.axvline(0, color=\"grey\")\n",
    "plt.plot(m, cost, color=\"blue\")\n",
    "plt.axvline(x=0.8)\n",
    "plt.plot(m, delta, color=\"red\")\n",
    "plt.show()\n",
    "\n",
    "# add: how to take the derivative"
   ]
  },
  {
   "cell_type": "markdown",
   "metadata": {},
   "source": [
    "### Could we lower the \"cost\" with a more complex (polynomial) model/fit? "
   ]
  },
  {
   "cell_type": "code",
   "execution_count": 20,
   "metadata": {},
   "outputs": [
    {
     "name": "stdout",
     "output_type": "stream",
     "text": [
      "[-4.2         7.80952381 -2.85714286  0.33333333]\n"
     ]
    },
    {
     "data": {
      "image/png": "[encoded data removed]",
      "text/plain": [
       "<Figure size 432x288 with 1 Axes>"
      ]
     },
     "metadata": {
      "needs_background": "light"
     },
     "output_type": "display_data"
    },
    {
     "name": "stdout",
     "output_type": "stream",
     "text": [
      "COST (error), linear model: \n",
      "2.400000000000001\n",
      "\n",
      "COST (error), polynomial model: \n",
      "0.5142857142857106\n"
     ]
    }
   ],
   "source": [
    "from sklearn.preprocessing import PolynomialFeatures\n",
    "from sklearn.linear_model import LinearRegression\n",
    "from sklearn.pipeline import Pipeline\n",
    "model = Pipeline([('poly', PolynomialFeatures(degree=3)),\n",
    "                  ('linear', LinearRegression(fit_intercept=False))])\n",
    "# fit to an order-3 polynomial data\n",
    "model = model.fit(x[:, np.newaxis], y)\n",
    "print(model.named_steps['linear'].coef_)\n",
    "\n",
    "x_reg = np.arange(1, 5.1, 0.1)\n",
    "y_reg = model.predict(x_reg.reshape(-1, 1))\n",
    "\n",
    "plt.scatter(x, y,  color='black')\n",
    "plt.plot(x, sr.predict(x), color=\"grey\", linewidth=1)\n",
    "plt.plot(x_reg, y_reg, color=\"blue\")\n",
    "plt.show()\n",
    "\n",
    "print(\"COST (error), linear model: \")\n",
    "print(np.sum(np.square(np.subtract(sr.predict(x), y))))\n",
    "print()\n",
    "\n",
    "print(\"COST (error), polynomial model: \")\n",
    "print(np.sum(np.square(np.subtract(model.predict(x.reshape(-1, 1)), y))))"
   ]
  },
  {
   "cell_type": "code",
   "execution_count": 21,
   "metadata": {},
   "outputs": [
    {
     "data": {
      "image/png": "[encoded data removed]",
      "text/plain": [
       "<Figure size 432x288 with 1 Axes>"
      ]
     },
     "metadata": {
      "needs_background": "light"
     },
     "output_type": "display_data"
    }
   ],
   "source": [
    "fits = (\"Linear\", \"Polynomial\")\n",
    "y_pos = np.arange(len(fits))\n",
    "plt.xticks(y_pos, fits)\n",
    "plt.ylabel(\"cost\")\n",
    "plt.bar(y_pos, [np.sum(np.square(np.subtract(sr.predict(x), y))), np.sum(np.square(np.subtract(model.predict(x.reshape(-1, 1)), y)))])\n",
    "plt.title(\"Cost, by model fit\")\n",
    "plt.show()"
   ]
  },
  {
   "cell_type": "code",
   "execution_count": null,
   "metadata": {},
   "outputs": [],
   "source": []
  }
 ],
 "metadata": {
  "kernelspec": {
   "display_name": "Python 3",
   "language": "python",
   "name": "python3"
  },
  "language_info": {
   "codemirror_mode": {
    "name": "ipython",
    "version": 3
   },
   "file_extension": ".py",
   "mimetype": "text/x-python",
   "name": "python",
   "nbconvert_exporter": "python",
   "pygments_lexer": "ipython3",
   "version": "3.7.4"
  }
 },
 "nbformat": 4,
 "nbformat_minor": 1
}
